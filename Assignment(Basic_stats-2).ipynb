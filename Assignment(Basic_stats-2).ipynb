{
 "cells": [
  {
   "cell_type": "code",
   "execution_count": 7,
   "id": "383428d1-5721-44a2-9fe0-5f26b5c45c75",
   "metadata": {},
   "outputs": [],
   "source": [
    "import numpy as np\n",
    "from scipy import stats"
   ]
  },
  {
   "cell_type": "code",
   "execution_count": 11,
   "id": "e93f7e7d-e39c-4780-9bbc-75acf9de97b7",
   "metadata": {},
   "outputs": [],
   "source": [
    "data=np.array([1.13, 1.55, 1.43, 0.92, 1.25, 1.36, 1.32, 0.85, 1.07, 1.48, 1.20, 1.33, 1.18, 1.22, 1.29])"
   ]
  },
  {
   "cell_type": "code",
   "execution_count": 13,
   "id": "20715d63-3917-47d5-971f-a6259d4c9a62",
   "metadata": {},
   "outputs": [
    {
     "data": {
      "text/plain": [
       "array([1.13, 1.55, 1.43, 0.92, 1.25, 1.36, 1.32, 0.85, 1.07, 1.48, 1.2 ,\n",
       "       1.33, 1.18, 1.22, 1.29])"
      ]
     },
     "execution_count": 13,
     "metadata": {},
     "output_type": "execute_result"
    }
   ],
   "source": [
    "data"
   ]
  },
  {
   "cell_type": "code",
   "execution_count": 15,
   "id": "34907757-6437-499b-9e2a-4821f2b4054d",
   "metadata": {},
   "outputs": [],
   "source": [
    "sample_mean=np.mean(data)"
   ]
  },
  {
   "cell_type": "code",
   "execution_count": 17,
   "id": "234da61a-c3d6-4b53-b452-a728492d4828",
   "metadata": {},
   "outputs": [
    {
     "data": {
      "text/plain": [
       "1.2386666666666666"
      ]
     },
     "execution_count": 17,
     "metadata": {},
     "output_type": "execute_result"
    }
   ],
   "source": [
    "sample_mean"
   ]
  },
  {
   "cell_type": "code",
   "execution_count": 23,
   "id": "2892eec1-df01-448d-84a9-0f404af00b7a",
   "metadata": {},
   "outputs": [],
   "source": [
    "sample_std=np.std(data,ddof=1)"
   ]
  },
  {
   "cell_type": "code",
   "execution_count": 25,
   "id": "b29acb48-2f59-4ad0-94b4-e3c2c1549e48",
   "metadata": {},
   "outputs": [
    {
     "data": {
      "text/plain": [
       "0.19316412956959936"
      ]
     },
     "execution_count": 25,
     "metadata": {},
     "output_type": "execute_result"
    }
   ],
   "source": [
    "sample_std"
   ]
  },
  {
   "cell_type": "markdown",
   "id": "9234b10d-3332-408f-bdb3-9d6cf6ec4111",
   "metadata": {},
   "source": [
    "# a. Build 99% Confidence Interval Using Sample Standard Deviation\n",
    "Assuming the sample is representative of the population, construct a 99% confidence interval for the mean number of characters printed before the print-head fails using the sample standard deviation. Explain the steps you take and the rationale behind using the t-distribution for this task.\n"
   ]
  },
  {
   "cell_type": "code",
   "execution_count": 27,
   "id": "c1aeb8d3-77c5-4dcf-905a-8342c6ca05b9",
   "metadata": {},
   "outputs": [],
   "source": [
    "#ci=99%\n",
    "#alpha=1%=0.01\n",
    "#alpha/2=0.005"
   ]
  },
  {
   "cell_type": "code",
   "execution_count": 31,
   "id": "cd50e9fc-0589-4c69-b136-db6db5546859",
   "metadata": {},
   "outputs": [],
   "source": [
    "n=len(data)"
   ]
  },
  {
   "cell_type": "code",
   "execution_count": 33,
   "id": "7143d630-2a6a-4e61-812e-ed942229bc8c",
   "metadata": {},
   "outputs": [
    {
     "data": {
      "text/plain": [
       "15"
      ]
     },
     "execution_count": 33,
     "metadata": {},
     "output_type": "execute_result"
    }
   ],
   "source": [
    "n"
   ]
  },
  {
   "cell_type": "code",
   "execution_count": 35,
   "id": "d3df3134-012c-4693-bd41-58b7cff48691",
   "metadata": {},
   "outputs": [],
   "source": [
    "df=14"
   ]
  },
  {
   "cell_type": "code",
   "execution_count": 37,
   "id": "10f275be-ff8e-4028-be68-f6cfed9eef0e",
   "metadata": {},
   "outputs": [],
   "source": [
    "t_critical=stats.t.ppf(0.005,14)"
   ]
  },
  {
   "cell_type": "code",
   "execution_count": 39,
   "id": "f504eaf9-5322-4c4e-ac7f-be3f0debedda",
   "metadata": {},
   "outputs": [
    {
     "data": {
      "text/plain": [
       "-2.9768427343708344"
      ]
     },
     "execution_count": 39,
     "metadata": {},
     "output_type": "execute_result"
    }
   ],
   "source": [
    "t_critical"
   ]
  },
  {
   "cell_type": "code",
   "execution_count": 47,
   "id": "fc51bce2-bc00-4266-80ea-74f03289edc9",
   "metadata": {},
   "outputs": [],
   "source": [
    "margin_of_error = t_critical * (sample_std / np.sqrt(n))"
   ]
  },
  {
   "cell_type": "code",
   "execution_count": 49,
   "id": "acbab63f-a78a-4f80-8972-4fef9a89c6ec",
   "metadata": {},
   "outputs": [
    {
     "data": {
      "text/plain": [
       "-0.148469328228176"
      ]
     },
     "execution_count": 49,
     "metadata": {},
     "output_type": "execute_result"
    }
   ],
   "source": [
    "margin_of_error"
   ]
  },
  {
   "cell_type": "code",
   "execution_count": 51,
   "id": "4e66877e-d790-4ba8-85f1-6c8561e1894e",
   "metadata": {},
   "outputs": [],
   "source": [
    "confidence_interval_lower = sample_mean - margin_of_error"
   ]
  },
  {
   "cell_type": "code",
   "execution_count": 53,
   "id": "db8afac5-674c-4bfc-bcf2-4c25e27dfda0",
   "metadata": {},
   "outputs": [
    {
     "data": {
      "text/plain": [
       "1.3871359948948425"
      ]
     },
     "execution_count": 53,
     "metadata": {},
     "output_type": "execute_result"
    }
   ],
   "source": [
    "confidence_interval_lower"
   ]
  },
  {
   "cell_type": "code",
   "execution_count": 55,
   "id": "eaa05d07-daa9-4a2b-b72d-d1fab2d4b455",
   "metadata": {},
   "outputs": [],
   "source": [
    "confidence_interval_upper = sample_mean + margin_of_error"
   ]
  },
  {
   "cell_type": "code",
   "execution_count": 57,
   "id": "7f25ad2e-2ed5-4c28-ad35-75ef847bcebe",
   "metadata": {},
   "outputs": [
    {
     "data": {
      "text/plain": [
       "1.0901973384384906"
      ]
     },
     "execution_count": 57,
     "metadata": {},
     "output_type": "execute_result"
    }
   ],
   "source": [
    "confidence_interval_upper"
   ]
  },
  {
   "cell_type": "markdown",
   "id": "8e35f8a4-9a88-4563-bf3a-c8a5397e07e0",
   "metadata": {},
   "source": [
    "# b. Build 99% Confidence Interval Using Known Population Standard Deviation\n",
    "If it were known that the population standard deviation is 0.2 million characters, construct a 99% confidence interval for the mean number of characters printed before failure.\n"
   ]
  },
  {
   "cell_type": "code",
   "execution_count": 59,
   "id": "f716f368-6173-4222-b217-f17aafb9544f",
   "metadata": {},
   "outputs": [],
   "source": [
    "# Known population standard deviation\n",
    "population_std_known = 0.2 "
   ]
  },
  {
   "cell_type": "code",
   "execution_count": 61,
   "id": "5f6ea830-2ef1-4295-ad2c-4f6d9942429b",
   "metadata": {},
   "outputs": [],
   "source": [
    "z_critical = stats.norm.ppf(1 - 0.005)"
   ]
  },
  {
   "cell_type": "code",
   "execution_count": 63,
   "id": "440c909e-28ad-4c02-91b7-28806953ef1f",
   "metadata": {},
   "outputs": [
    {
     "data": {
      "text/plain": [
       "2.5758293035489004"
      ]
     },
     "execution_count": 63,
     "metadata": {},
     "output_type": "execute_result"
    }
   ],
   "source": [
    "z_critical"
   ]
  },
  {
   "cell_type": "code",
   "execution_count": 65,
   "id": "3a9f6b46-6dd0-4ed8-bee6-722ef4d33182",
   "metadata": {},
   "outputs": [],
   "source": [
    "margin_of_error_known_std = z_critical * (population_std_known / np.sqrt(n))"
   ]
  },
  {
   "cell_type": "code",
   "execution_count": 67,
   "id": "92681e21-c00b-479e-8403-565df8716ced",
   "metadata": {},
   "outputs": [
    {
     "data": {
      "text/plain": [
       "0.13301525327090588"
      ]
     },
     "execution_count": 67,
     "metadata": {},
     "output_type": "execute_result"
    }
   ],
   "source": [
    "margin_of_error_known_std"
   ]
  },
  {
   "cell_type": "code",
   "execution_count": 69,
   "id": "bca1e0e0-ba2a-423d-b45d-2b72476a7ad5",
   "metadata": {},
   "outputs": [
    {
     "data": {
      "text/plain": [
       "1.1056514133957607"
      ]
     },
     "execution_count": 69,
     "metadata": {},
     "output_type": "execute_result"
    }
   ],
   "source": [
    "confidence_interval_lower_known_std = sample_mean - margin_of_error_known_std\n",
    "confidence_interval_lower_known_std\n"
   ]
  },
  {
   "cell_type": "code",
   "execution_count": 71,
   "id": "94f54c75-0f57-463b-b1cd-138477e583fc",
   "metadata": {},
   "outputs": [
    {
     "data": {
      "text/plain": [
       "1.3716819199375725"
      ]
     },
     "execution_count": 71,
     "metadata": {},
     "output_type": "execute_result"
    }
   ],
   "source": [
    "confidence_interval_upper_known_std = sample_mean + margin_of_error_known_std\n",
    "confidence_interval_upper_known_std "
   ]
  },
  {
   "cell_type": "code",
   "execution_count": null,
   "id": "501352cc-9685-4a70-8614-1b96328ad5a7",
   "metadata": {},
   "outputs": [],
   "source": []
  }
 ],
 "metadata": {
  "kernelspec": {
   "display_name": "Python [conda env:base] *",
   "language": "python",
   "name": "conda-base-py"
  },
  "language_info": {
   "codemirror_mode": {
    "name": "ipython",
    "version": 3
   },
   "file_extension": ".py",
   "mimetype": "text/x-python",
   "name": "python",
   "nbconvert_exporter": "python",
   "pygments_lexer": "ipython3",
   "version": "3.12.7"
  }
 },
 "nbformat": 4,
 "nbformat_minor": 5
}
