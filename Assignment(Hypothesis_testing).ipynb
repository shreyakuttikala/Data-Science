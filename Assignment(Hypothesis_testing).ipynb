{
 "cells": [
  {
   "cell_type": "code",
   "execution_count": 1,
   "id": "0034a334-6007-41b8-bac9-b88681af67ef",
   "metadata": {},
   "outputs": [],
   "source": [
    "import numpy as np\n",
    "from scipy import stats"
   ]
  },
  {
   "cell_type": "markdown",
   "id": "64459e34-a04c-4419-b160-c3a09f64d89d",
   "metadata": {},
   "source": [
    "# 1.State the Hypotheses statement:\n"
   ]
  },
  {
   "cell_type": "code",
   "execution_count": 3,
   "id": "33b896e4-42c3-4a2b-b6cb-72a44f5c6572",
   "metadata": {},
   "outputs": [],
   "source": [
    "#hypothesistesting\n",
    "#H0=The true mean weekly operating cost is still accurately represented by the model.\n",
    "#Ha=The true mean weekly operating cost is higher than the model suggests."
   ]
  },
  {
   "cell_type": "code",
   "execution_count": 4,
   "id": "7c914488-62b4-49a2-8074-a87264598fcc",
   "metadata": {},
   "outputs": [],
   "source": [
    "sample_mean_weekly_cost = 3050  # Rs. \n",
    "sample_size = 25  # restaurants \n",
    "X_mean = 600  # units \n",
    "X_std_dev = 25  # units "
   ]
  },
  {
   "cell_type": "code",
   "execution_count": 5,
   "id": "575a9f08-79fd-414d-a057-0985a03dd624",
   "metadata": {},
   "outputs": [],
   "source": [
    "theoretical_mean_weekly_cost = 1000 + 5 * X_mean"
   ]
  },
  {
   "cell_type": "code",
   "execution_count": 6,
   "id": "4e84810e-7b99-433d-92a5-c65672d5a0d1",
   "metadata": {},
   "outputs": [
    {
     "data": {
      "text/plain": [
       "4000"
      ]
     },
     "execution_count": 6,
     "metadata": {},
     "output_type": "execute_result"
    }
   ],
   "source": [
    "theoretical_mean_weekly_cost "
   ]
  },
  {
   "cell_type": "code",
   "execution_count": 7,
   "id": "54e5ec17-269e-4cf1-913e-b8d939f7480c",
   "metadata": {},
   "outputs": [],
   "source": [
    "sigma = 5 * X_std_dev"
   ]
  },
  {
   "cell_type": "code",
   "execution_count": 8,
   "id": "bedd2ef5-a353-42f3-96c4-0cd385a3ad79",
   "metadata": {},
   "outputs": [
    {
     "data": {
      "text/plain": [
       "125"
      ]
     },
     "execution_count": 8,
     "metadata": {},
     "output_type": "execute_result"
    }
   ],
   "source": [
    "sigma"
   ]
  },
  {
   "cell_type": "markdown",
   "id": "5e773739-18aa-46b6-8119-f9b018333cb0",
   "metadata": {},
   "source": [
    "# 2. Calculate the Test Statistic:"
   ]
  },
  {
   "cell_type": "code",
   "execution_count": 10,
   "id": "19d900e4-3cf3-4bb0-ac60-1d9d935a6120",
   "metadata": {},
   "outputs": [],
   "source": [
    "t_stats = (sample_mean_weekly_cost - theoretical_mean_weekly_cost) / (sigma / np.sqrt(sample_size))"
   ]
  },
  {
   "cell_type": "code",
   "execution_count": 11,
   "id": "44847ea3-25ec-4f7d-aeff-8055ef92c0a5",
   "metadata": {},
   "outputs": [
    {
     "data": {
      "text/plain": [
       "-38.0"
      ]
     },
     "execution_count": 11,
     "metadata": {},
     "output_type": "execute_result"
    }
   ],
   "source": [
    "t_stats"
   ]
  },
  {
   "cell_type": "markdown",
   "id": "cd47f435-ba48-48f7-8726-473d648c20fb",
   "metadata": {},
   "source": [
    "# 3. Determine the Critical Value:"
   ]
  },
  {
   "cell_type": "code",
   "execution_count": 13,
   "id": "363cb40d-71bf-4fa2-a3bf-c5c5707ff7f1",
   "metadata": {},
   "outputs": [],
   "source": [
    "#df=n-1=25-1=24\n",
    "df=24"
   ]
  },
  {
   "cell_type": "code",
   "execution_count": 14,
   "id": "6d3ef2e8-419b-4858-8226-a7cd63d872ba",
   "metadata": {},
   "outputs": [],
   "source": [
    "#alpha=0.05\n",
    "#alpha/2=0.025\n",
    "#1-0.025=0.975"
   ]
  },
  {
   "cell_type": "code",
   "execution_count": 15,
   "id": "55e9edff-1481-49fe-87fe-eb6209ec2589",
   "metadata": {},
   "outputs": [],
   "source": [
    "critical_value= stats.norm.ppf(0.95)"
   ]
  },
  {
   "cell_type": "code",
   "execution_count": 16,
   "id": "325516bc-abff-422b-8516-d8837c71d42b",
   "metadata": {},
   "outputs": [
    {
     "data": {
      "text/plain": [
       "1.6448536269514722"
      ]
     },
     "execution_count": 16,
     "metadata": {},
     "output_type": "execute_result"
    }
   ],
   "source": [
    "critical_value "
   ]
  },
  {
   "cell_type": "markdown",
   "id": "51556c65-2f2f-42aa-81ee-8bbcf22097fa",
   "metadata": {},
   "source": [
    "# 4. Make a Decision"
   ]
  },
  {
   "cell_type": "code",
   "execution_count": 18,
   "id": "00f8d6d1-d11e-4750-a015-6ddbfddece24",
   "metadata": {},
   "outputs": [],
   "source": [
    "#if t_stats > t_critical --reject H0\n",
    "#if t_stats < t_critical --fail to reject H0"
   ]
  },
  {
   "cell_type": "code",
   "execution_count": 19,
   "id": "aa76a7e3-ca2e-422f-b8bb-9d4c92d2cdf3",
   "metadata": {},
   "outputs": [],
   "source": [
    "# -38.0 <1.95 \n",
    "#fail to reject null hypothesis."
   ]
  },
  {
   "cell_type": "markdown",
   "id": "d68c8ada-b912-4af4-85ee-5d428776a332",
   "metadata": {},
   "source": [
    "# 5. Conclusion:"
   ]
  },
  {
   "cell_type": "code",
   "execution_count": 21,
   "id": "4c2b4ce0-0a3f-4ddd-b62a-893ae0bfc333",
   "metadata": {},
   "outputs": [],
   "source": [
    "  # Based on the analysis, \n",
    "#there is no strong evidence to support the restaurant owners' \n",
    "#claim that the weekly operating costs are higher than the model suggests. "
   ]
  }
 ],
 "metadata": {
  "kernelspec": {
   "display_name": "Python [conda env:base] *",
   "language": "python",
   "name": "conda-base-py"
  },
  "language_info": {
   "codemirror_mode": {
    "name": "ipython",
    "version": 3
   },
   "file_extension": ".py",
   "mimetype": "text/x-python",
   "name": "python",
   "nbconvert_exporter": "python",
   "pygments_lexer": "ipython3",
   "version": "3.12.7"
  }
 },
 "nbformat": 4,
 "nbformat_minor": 5
}
