{
 "cells": [
  {
   "cell_type": "markdown",
   "id": "b764ee86-a500-4662-b554-55671ed69fe4",
   "metadata": {},
   "source": [
    "# Chi-Square Test"
   ]
  },
  {
   "cell_type": "raw",
   "id": "ca42c64d-77ae-4ea0-a464-dc3a45131315",
   "metadata": {},
   "source": [
    "Mizzare Corporation has collected data on customer satisfaction levels for two types of smart home devices: \n",
    "Smart Thermostats and Smart Lights. \n",
    "They want to determine if there's a significant association between the type of device purchased and the customer's satisfaction level"
   ]
  },
  {
   "cell_type": "raw",
   "id": "28ae723c-5d25-4e54-acc7-aeb2a8d685a8",
   "metadata": {},
   "source": [
    "Satisfaction-------SmartThermostat-----SmartLight---Total\n",
    "VerySatisfied--------50------------------70----------120\n",
    "Satisfied------------80-----------------100----------180\n",
    "Neutral--------------60------------------90----------150\n",
    "Unsatisfied----------30------------------50----------80\n",
    "VeryUnsatisfied------20------------------50----------70\n",
    "Total----------------240-----------------360---------600\n"
   ]
  },
  {
   "cell_type": "markdown",
   "id": "5278e283-9ff2-4484-96fd-9297552a366c",
   "metadata": {},
   "source": [
    "# 1. State the Hypotheses:"
   ]
  },
  {
   "cell_type": "raw",
   "id": "443cc0b2-f50b-4e5f-b278-44169211b7f5",
   "metadata": {},
   "source": [
    "H0:There is no significant association between the type of smart home device purchased and customer satisfaction level.\n",
    "Ha:There is a significant association between the type of smart home device purchased and customer satisfaction level."
   ]
  },
  {
   "cell_type": "code",
   "execution_count": 9,
   "id": "f77ba3e1-e167-410f-a134-fe56036ed6d3",
   "metadata": {},
   "outputs": [],
   "source": [
    "import numpy as np\n",
    "from scipy import stats"
   ]
  },
  {
   "cell_type": "code",
   "execution_count": 27,
   "id": "5037ff1e-495f-425d-b92a-2342d50bbf04",
   "metadata": {},
   "outputs": [],
   "source": [
    "#observed_data\n",
    "obs_data = np.array([\n",
    "    [50, 70],  # Very Satisfied\n",
    "    [80, 100], # Satisfied\n",
    "    [60, 90],  # Neutral\n",
    "    [30, 50],  # Unsatisfied\n",
    "    [20, 50]   # Very Unsatisfied\n",
    "])"
   ]
  },
  {
   "cell_type": "code",
   "execution_count": 29,
   "id": "519e18f9-7857-487f-a419-60cb6baae25a",
   "metadata": {},
   "outputs": [
    {
     "data": {
      "text/plain": [
       "array([120, 180, 150,  80,  70])"
      ]
     },
     "execution_count": 29,
     "metadata": {},
     "output_type": "execute_result"
    }
   ],
   "source": [
    "row_totl= np.sum(obs_data, axis=1)\n",
    "row_totl"
   ]
  },
  {
   "cell_type": "code",
   "execution_count": 31,
   "id": "063c0f77-9fb9-4ee4-b71c-4dee3e28b92d",
   "metadata": {},
   "outputs": [
    {
     "data": {
      "text/plain": [
       "array([240, 360])"
      ]
     },
     "execution_count": 31,
     "metadata": {},
     "output_type": "execute_result"
    }
   ],
   "source": [
    "column_totl = np.sum(obs_data, axis=0)\n",
    "column_totl "
   ]
  },
  {
   "cell_type": "code",
   "execution_count": 33,
   "id": "2d149f37-5b69-4a62-837e-adaa36bcd48d",
   "metadata": {},
   "outputs": [
    {
     "data": {
      "text/plain": [
       "600"
      ]
     },
     "execution_count": 33,
     "metadata": {},
     "output_type": "execute_result"
    }
   ],
   "source": [
    "grand_totl = np.sum(obs_data)\n",
    "grand_totl\n"
   ]
  },
  {
   "cell_type": "code",
   "execution_count": 35,
   "id": "5dd6204a-55c0-4728-88ae-ff25084fdc9f",
   "metadata": {},
   "outputs": [],
   "source": [
    "exp_data = np.outer(row_totl, column_totl) / grand_totl"
   ]
  },
  {
   "cell_type": "code",
   "execution_count": 37,
   "id": "82e4ba16-ad48-4e40-88d0-786846a99181",
   "metadata": {},
   "outputs": [
    {
     "data": {
      "text/plain": [
       "array([[ 48.,  72.],\n",
       "       [ 72., 108.],\n",
       "       [ 60.,  90.],\n",
       "       [ 32.,  48.],\n",
       "       [ 28.,  42.]])"
      ]
     },
     "execution_count": 37,
     "metadata": {},
     "output_type": "execute_result"
    }
   ],
   "source": [
    "exp_data"
   ]
  },
  {
   "cell_type": "code",
   "execution_count": 39,
   "id": "e6c7c184-1b49-442d-9e44-5be2d78dfbe9",
   "metadata": {},
   "outputs": [
    {
     "data": {
      "text/plain": [
       "28800"
      ]
     },
     "execution_count": 39,
     "metadata": {},
     "output_type": "execute_result"
    }
   ],
   "source": [
    "120*240"
   ]
  },
  {
   "cell_type": "code",
   "execution_count": 41,
   "id": "b154b2e6-32d3-4c47-b5b7-79fb25d51ab1",
   "metadata": {},
   "outputs": [
    {
     "data": {
      "text/plain": [
       "48.0"
      ]
     },
     "execution_count": 41,
     "metadata": {},
     "output_type": "execute_result"
    }
   ],
   "source": [
    "28800/600"
   ]
  },
  {
   "cell_type": "markdown",
   "id": "2846b49b-c929-4ec9-a55d-097a82ae93ce",
   "metadata": {},
   "source": [
    "# 2. Compute the Chi-Square Statistic:"
   ]
  },
  {
   "cell_type": "code",
   "execution_count": 51,
   "id": "b8ec08ee-7fcb-4c8a-88bf-28e8a1d318db",
   "metadata": {},
   "outputs": [
    {
     "data": {
      "text/plain": [
       "Power_divergenceResult(statistic=array([3.38293651, 2.25529101]), pvalue=array([0.4958998 , 0.68892041]))"
      ]
     },
     "execution_count": 51,
     "metadata": {},
     "output_type": "execute_result"
    }
   ],
   "source": [
    "chi_stats = np.sum(((obs_data - exp_data)**2) / exp_data)\n",
    "chi_stats "
   ]
  },
  {
   "cell_type": "markdown",
   "id": "807e99de-e129-4a6b-a6a0-f9432b0ab218",
   "metadata": {},
   "source": [
    "# 3. Determine the Critical Value:"
   ]
  },
  {
   "cell_type": "raw",
   "id": "cf34593e-bc1b-4878-8b70-3951d7555a78",
   "metadata": {},
   "source": [
    "alpha=0.05\n",
    "df=(no of rows-1)*(no of columns-1)"
   ]
  },
  {
   "cell_type": "code",
   "execution_count": 47,
   "id": "acd756e4-9284-41d1-8176-da65dfc7ddc9",
   "metadata": {},
   "outputs": [],
   "source": [
    "df=4"
   ]
  },
  {
   "cell_type": "code",
   "execution_count": 49,
   "id": "c793eabb-51d3-460e-967c-f0498c31c56d",
   "metadata": {},
   "outputs": [
    {
     "data": {
      "text/plain": [
       "9.487729036781154"
      ]
     },
     "execution_count": 49,
     "metadata": {},
     "output_type": "execute_result"
    }
   ],
   "source": [
    "chi_critical=stats.chi2.ppf(0.95,4)\n",
    "chi_critical"
   ]
  },
  {
   "cell_type": "markdown",
   "id": "4edeb14e-54b3-4a63-aec0-a3d6acacd2d4",
   "metadata": {},
   "source": [
    "# 4. Make a Decision:"
   ]
  },
  {
   "cell_type": "raw",
   "id": "4549ccd6-9ad4-48dc-8cf1-d1393c94135e",
   "metadata": {},
   "source": [
    "since chi_stats < chi_critical fails to reject null hypothisis"
   ]
  },
  {
   "cell_type": "raw",
   "id": "09a439c7-fccb-4736-afad-ae76fc7198b6",
   "metadata": {},
   "source": [
    " Hence there is no significant association between the type of smart home device purchased and customer satisfaction level."
   ]
  }
 ],
 "metadata": {
  "kernelspec": {
   "display_name": "Python [conda env:base] *",
   "language": "python",
   "name": "conda-base-py"
  },
  "language_info": {
   "codemirror_mode": {
    "name": "ipython",
    "version": 3
   },
   "file_extension": ".py",
   "mimetype": "text/x-python",
   "name": "python",
   "nbconvert_exporter": "python",
   "pygments_lexer": "ipython3",
   "version": "3.12.7"
  }
 },
 "nbformat": 4,
 "nbformat_minor": 5
}
