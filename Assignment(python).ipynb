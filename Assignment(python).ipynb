{
 "cells": [
  {
   "cell_type": "markdown",
   "id": "b84bcf2c-bd80-4a70-8000-3f0414273076",
   "metadata": {},
   "source": [
    "# Exercise 1: Prime Numbers\n",
    "Write a Python program that checks whether a given number is prime or not. A prime number is a natural number greater than 1 that has no positive divisors other than 1 and itself.\n"
   ]
  },
  {
   "cell_type": "code",
   "execution_count": 6,
   "id": "f7b96cf0-1908-46e3-a69f-99c27f568e34",
   "metadata": {},
   "outputs": [
    {
     "name": "stdout",
     "output_type": "stream",
     "text": [
      "17 is a prime number.\n",
      "4 is not a prime number.\n",
      "------------------------------\n"
     ]
    }
   ],
   "source": [
    "num_to_check = 17\n",
    "if is_prime(num_to_check):\n",
    "    print(f\"{num_to_check} is a prime number.\")\n",
    "else:\n",
    "    print(f\"{num_to_check} is not a prime number.\")\n",
    "\n",
    "num_to_check = 4\n",
    "if is_prime(num_to_check):\n",
    "    print(f\"{num_to_check} is a prime number.\")\n",
    "else:\n",
    "    print(f\"{num_to_check} is not a prime number.\")\n",
    "\n",
    "print(\"-\" * 30)"
   ]
  },
  {
   "cell_type": "markdown",
   "id": "14f399d7-3b5a-4f72-992c-2ad4e995b352",
   "metadata": {},
   "source": [
    "# Exercise 2: Product of Random Numbers\n",
    "Develop a Python program that generates two random numbers and asks the user to enter the product of these numbers. The program should then check if the user's answer is correct and display an appropriate message.\n"
   ]
  },
  {
   "cell_type": "code",
   "execution_count": 8,
   "id": "c1efe85e-3c1a-4ec1-9aaf-4651340e6a60",
   "metadata": {},
   "outputs": [],
   "source": [
    "import random\n",
    "\n",
    "def product_quiz():\n",
    "    \"\"\"\n",
    "    Generates two random numbers, asks the user for their product, and checks the answer.\n",
    "    \"\"\"\n",
    "    num1 = random.randint(1, 10)  # Generate first random number\n",
    "    num2 = random.randint(1, 10)  # Generate second random number\n",
    "    correct_product = num1 * num2\n",
    "\n",
    "    print(f\"What is the product of {num1} and {num2}?\")\n",
    "    try:\n",
    "        user_answer = int(input(\"Enter your answer: \"))\n",
    "        if user_answer == correct_product:\n",
    "            print(\"Correct! Well done!\")\n",
    "        else:\n",
    "            print(f\"Incorrect. The correct answer was {correct_product}.\")\n",
    "    except ValueError:\n",
    "        print(\"Invalid input. Please enter a number.\")"
   ]
  },
  {
   "cell_type": "code",
   "execution_count": 10,
   "id": "1563de8d-4297-441f-9483-35d777c9bb31",
   "metadata": {},
   "outputs": [
    {
     "name": "stdout",
     "output_type": "stream",
     "text": [
      "What is the product of 7 and 9?\n"
     ]
    },
    {
     "name": "stdin",
     "output_type": "stream",
     "text": [
      "Enter your answer:  49\n"
     ]
    },
    {
     "name": "stdout",
     "output_type": "stream",
     "text": [
      "Incorrect. The correct answer was 63.\n",
      "------------------------------\n"
     ]
    }
   ],
   "source": [
    "product_quiz()\n",
    "\n",
    "print(\"-\" * 30)"
   ]
  },
  {
   "cell_type": "markdown",
   "id": "8b8df51a-2f33-4b71-a4bf-28ed1b1ca98b",
   "metadata": {},
   "source": [
    "# Exercise 3: Squares of Even/Odd Numbers\n",
    "Create a Python script that prints the squares of all even or odd numbers within the range of 100 to 200. Choose either even or odd numbers and document your choice in the code."
   ]
  },
  {
   "cell_type": "code",
   "execution_count": 20,
   "id": "549e976c-cc9b-4a21-ac52-6391327b3855",
   "metadata": {},
   "outputs": [],
   "source": [
    "def squares_of_numbers(start, end, choice):\n",
    "   \n",
    "    print(f\"Calculating squares of {choice} numbers between {start} and {end}:\")\n",
    "    for number in range(start, end + 1):\n",
    "        if choice == 'even' and number % 2 == 0:\n",
    "            print(f\"The square of {number} is {number**2}\")\n",
    "        elif choice == 'odd' and number % 2 != 0:\n",
    "            print(f\"The square of {number} is {number**2}\")\n",
    "        elif choice not in ['even', 'odd']:\n",
    "            print(\"Invalid choice. Please choose 'even' or 'odd'.\")\n",
    "            break"
   ]
  },
  {
   "cell_type": "markdown",
   "id": "be548dad-994b-4f75-997d-2a47f88b4b37",
   "metadata": {},
   "source": [
    "# Exercise 4: Word counter\n",
    "write a program to count the number of words in a given text.\n",
    "example:\n",
    "input_text = \"This is a sample text. This text will be used to demonstrate the word counter.\"\n",
    "Expected output:\n",
    "'This': 2 \n",
    "'is': 1\n",
    "'a': 1\n",
    "'sample': 1\n",
    "'text.': 1"
   ]
  },
  {
   "cell_type": "code",
   "execution_count": 14,
   "id": "5ff8d413-22ad-40b3-a27e-b224b90a3f96",
   "metadata": {},
   "outputs": [
    {
     "name": "stdout",
     "output_type": "stream",
     "text": [
      "'This': 2\n",
      "'is': 1\n",
      "'a': 1\n",
      "'sample': 1\n",
      "'text.': 1\n",
      "'text': 1\n",
      "'will': 1\n",
      "'be': 1\n",
      "'used': 1\n",
      "'to': 1\n",
      "'demonstrate': 1\n",
      "'the': 1\n",
      "'word': 1\n",
      "'counter.': 1\n",
      "------------------------------\n"
     ]
    }
   ],
   "source": [
    "from collections import Counter\n",
    "import re\n",
    "\n",
    "def word_counter(text):\n",
    "    \"\"\"\n",
    "    Counts the occurrences of each word in a given text.\n",
    "    Words are considered case-sensitive and punctuation is preserved as part of the word.\n",
    "    \"\"\"\n",
    "    # Split the text by spaces to get individual words.\n",
    "    # For a more robust solution, one might want to remove punctuation or convert to lowercase.\n",
    "    words = text.split()\n",
    "    word_counts = Counter(words)\n",
    "    return word_counts\n",
    "\n",
    "# Example usage for Exercise 4:\n",
    "input_text = \"This is a sample text. This text will be used to demonstrate the word counter.\"\n",
    "counts = word_counter(input_text)\n",
    "for word, count in counts.items():\n",
    "    print(f\"'{word}': {count}\")\n",
    "\n",
    "print(\"-\" * 30)"
   ]
  },
  {
   "cell_type": "markdown",
   "id": "68a928ec-84aa-41ce-b280-a06bb733c90e",
   "metadata": {},
   "source": [
    "# Exercise 5: Check for Palindrome\n",
    "Write a Python function called is_palindrome that takes a string as input and returns True if the string is a palindrome, and False otherwise. A palindrome is a word, phrase, number, or other sequence of characters that reads the same forward and backward, ignoring spaces, punctuation, and capitalization.\n"
   ]
  },
  {
   "cell_type": "code",
   "execution_count": 16,
   "id": "f5c83abb-d0de-46bb-9009-2dbd66173891",
   "metadata": {},
   "outputs": [
    {
     "name": "stdout",
     "output_type": "stream",
     "text": [
      "'racecar' is a palindrome: True\n",
      "'A man, a plan, a canal: Panama' is a palindrome: True\n",
      "'hello' is a palindrome: False\n"
     ]
    }
   ],
   "source": [
    "\n",
    "def is_palindrome(input_string):\n",
    "    \"\"\"\n",
    "    Checks if a given string is a palindrome, ignoring spaces, punctuation, and capitalization.\n",
    "    \"\"\"\n",
    "    # Remove spaces and punctuation, and convert to lowercase.\n",
    "    # We'll use a regular expression to keep only alphanumeric characters.\n",
    "    processed_string = re.sub(r'[^a-zA-Z0-9]', '', input_string).lower()\n",
    "    return processed_string == processed_string[::-1]\n",
    "\n",
    "# Example usage for Exercise 5:\n",
    "input_str1 = \"racecar\"\n",
    "print(f\"'{input_str1}' is a palindrome: {is_palindrome(input_str1)}\")\n",
    "\n",
    "input_str2 = \"A man, a plan, a canal: Panama\"\n",
    "print(f\"'{input_str2}' is a palindrome: {is_palindrome(input_str2)}\")\n",
    "\n",
    "input_str3 = \"hello\"\n",
    "print(f\"'{input_str3}' is a palindrome: {is_palindrome(input_str3)}\")"
   ]
  },
  {
   "cell_type": "code",
   "execution_count": null,
   "id": "b3b35823-a8f8-4e6b-906e-b6f96eda7d57",
   "metadata": {},
   "outputs": [],
   "source": []
  }
 ],
 "metadata": {
  "kernelspec": {
   "display_name": "Python [conda env:base] *",
   "language": "python",
   "name": "conda-base-py"
  },
  "language_info": {
   "codemirror_mode": {
    "name": "ipython",
    "version": 3
   },
   "file_extension": ".py",
   "mimetype": "text/x-python",
   "name": "python",
   "nbconvert_exporter": "python",
   "pygments_lexer": "ipython3",
   "version": "3.12.7"
  }
 },
 "nbformat": 4,
 "nbformat_minor": 5
}
