{
 "cells": [
  {
   "cell_type": "code",
   "execution_count": 1,
   "id": "da52d801-8c7f-4580-bc67-0eb7a50b4ab8",
   "metadata": {},
   "outputs": [],
   "source": [
    "import streamlit as st\n",
    "import pandas as pd\n",
    "import numpy as np\n",
    "import pickle\n",
    "import warnings\n",
    "warnings.filterwarnings('ignore')"
   ]
  },
  {
   "cell_type": "code",
   "execution_count": 2,
   "id": "96c0f0ef-d0e2-4040-84bd-e713f68a6ce7",
   "metadata": {},
   "outputs": [
    {
     "name": "stderr",
     "output_type": "stream",
     "text": [
      "2025-07-25 15:17:37.089 \n",
      "  \u001b[33m\u001b[1mWarning:\u001b[0m to view this Streamlit app on a browser, run it with the following\n",
      "  command:\n",
      "\n",
      "    streamlit run C:\\Users\\shrey\\anaconda3\\Lib\\site-packages\\ipykernel_launcher.py [ARGUMENTS]\n"
     ]
    }
   ],
   "source": [
    "try:\n",
    "    with open('logistic_regression_model.pkl', 'rb') as file:\n",
    "        log_model = pickle.load(file)\n",
    "    with open('scaler.pkl', 'rb') as file:\n",
    "        scaler = pickle.load(file)\n",
    "    with open('train_columns.pkl', 'rb') as file:\n",
    "        train_columns = pickle.load(file)\n",
    "    st.success(\"Model, scaler, and feature columns loaded successfully!\")\n",
    "except FileNotFoundError:\n",
    "    st.error(\"Error: Model files not found. Please run the 'logistic_regression_model.py' script first to train and save the model.\")\n",
    "    st.stop() "
   ]
  },
  {
   "cell_type": "code",
   "execution_count": 3,
   "id": "152ce49a-c74d-4748-a997-e61efa278793",
   "metadata": {},
   "outputs": [
    {
     "data": {
      "text/plain": [
       "DeltaGenerator()"
      ]
     },
     "execution_count": 3,
     "metadata": {},
     "output_type": "execute_result"
    }
   ],
   "source": [
    "st.title(\"🚢 Titanic Survival Predictor\")\n",
    "st.markdown(\"\"\"\n",
    "    This application predicts the survival probability of a passenger on the Titanic\n",
    "    based on a Logistic Regression model.\n",
    "    Fill in the details below to get a prediction!\n",
    "\"\"\")"
   ]
  },
  {
   "cell_type": "code",
   "execution_count": 4,
   "id": "45f1e7f6-d442-40dd-a89e-3e862f02a328",
   "metadata": {},
   "outputs": [
    {
     "data": {
      "text/plain": [
       "DeltaGenerator()"
      ]
     },
     "execution_count": 4,
     "metadata": {},
     "output_type": "execute_result"
    }
   ],
   "source": [
    "st.header(\"Passenger Details\")"
   ]
  },
  {
   "cell_type": "code",
   "execution_count": 5,
   "id": "4d925725-0e73-40f1-82f7-c3a8dd1e8539",
   "metadata": {},
   "outputs": [],
   "source": [
    "col1, col2 = st.columns(2)"
   ]
  },
  {
   "cell_type": "code",
   "execution_count": 6,
   "id": "89cb262d-6fc5-469f-8b07-52856f253363",
   "metadata": {},
   "outputs": [
    {
     "name": "stderr",
     "output_type": "stream",
     "text": [
      "2025-07-25 15:17:37.147 Session state does not function when running a script without `streamlit run`\n"
     ]
    }
   ],
   "source": [
    "with col1:\n",
    "    pclass = st.selectbox(\"Passenger Class (Pclass)\", [1, 2, 3], help=\"1 = 1st Class, 2 = 2nd Class, 3 = 3rd Class\")\n",
    "    sex = st.radio(\"Sex\", [\"male\", \"female\"])\n",
    "    age = st.slider(\"Age\", 0, 100, 30, help=\"Age of the passenger\")\n",
    "    sibsp = st.slider(\"Number of Siblings/Spouses Aboard (SibSp)\", 0, 8, 0, help=\"Number of siblings or spouses traveling with the passenger\")\n"
   ]
  },
  {
   "cell_type": "code",
   "execution_count": 7,
   "id": "fa900480-a725-47ad-8725-2756b6102062",
   "metadata": {},
   "outputs": [],
   "source": [
    "with col2:\n",
    "    parch = st.slider(\"Number of Parents/Children Aboard (Parch)\", 0, 6, 0, help=\"Number of parents or children traveling with the passenger\")\n",
    "    fare = st.number_input(\"Fare\", value=30.0, min_value=0.0, max_value=1000.0, help=\"Fare paid for the ticket\")\n",
    "    embarked = st.selectbox(\"Port of Embarkation (Embarked)\", [\"C\", \"Q\", \"S\"], help=\"C = Cherbourg, Q = Queenstown, S = Southampton\")\n"
   ]
  },
  {
   "cell_type": "code",
   "execution_count": 8,
   "id": "2c4a9967-b997-44b5-92ad-e6687d14da2c",
   "metadata": {},
   "outputs": [],
   "source": [
    "def preprocess_input(pclass, sex, age, sibsp, parch, fare, embarked, train_columns, scaler):\n",
    "    # Create a dictionary from user inputs\n",
    "    input_data = {\n",
    "        'Pclass': pclass,\n",
    "        'Age': age,\n",
    "        'SibSp': sibsp,\n",
    "        'Parch': parch,\n",
    "        'Fare': fare,\n",
    "        'Has_Cabin': 0, # Default to 0 as we don't have this input directly\n",
    "        'FamilySize': sibsp + parch + 1,\n",
    "        'IsAlone': 1 if (sibsp + parch) == 0 else 0,\n",
    "        'Sex_male': 1 if sex == 'male' else 0,\n",
    "        'Embarked_Q': 1 if embarked == 'Q' else 0,\n",
    "        'Embarked_S': 1 if embarked == 'S' else 0,\n",
    "    }\n",
    "\n",
    "    # Create a DataFrame from the input data\n",
    "    input_df = pd.DataFrame([input_data])\n",
    "\n",
    "    # Ensure all columns from training data are present, fill missing with 0\n",
    "    # This is crucial for consistency with the trained model's features\n",
    "    processed_input = input_df.reindex(columns=train_columns, fill_value=0)\n",
    "\n",
    "    # Scale numerical features using the pre-fitted scaler\n",
    "    numerical_cols = ['Age', 'Fare', 'SibSp', 'Parch', 'FamilySize']\n",
    "    processed_input[numerical_cols] = scaler.transform(processed_input[numerical_cols])\n",
    "\n",
    "    return processed_input"
   ]
  },
  {
   "cell_type": "code",
   "execution_count": 9,
   "id": "9d2d4c98-44d0-49a3-a611-96a7178996cc",
   "metadata": {},
   "outputs": [],
   "source": [
    "if st.button(\"Predict Survival\"):\n",
    "    # Preprocess the user input\n",
    "    processed_input = preprocess_input(pclass, sex, age, sibsp, parch, fare, embarked, train_columns, scaler)\n",
    "\n",
    "    # Make prediction\n",
    "    prediction = log_model.predict(processed_input)\n",
    "    prediction_proba = log_model.predict_proba(processed_input)[:, 1] # Probability of survival\n",
    "\n",
    "    st.subheader(\"Prediction Result\")\n",
    "    if prediction[0] == 1:\n",
    "        st.success(f\"**The model predicts that this passenger would SURVIVE!**\")\n",
    "        st.balloons()\n",
    "    else:\n",
    "        st.error(f\"**The model predicts that this passenger would NOT SURVIVE.**\")\n",
    "\n",
    "    st.info(f\"Survival Probability: **{prediction_proba[0]:.2f}**\")\n",
    "\n",
    "    st.markdown(\"---\")\n",
    "    st.subheader(\"How to Interpret:\")\n",
    "    st.write(f\"A survival probability closer to 1.0 indicates a higher chance of survival, while a probability closer to 0.0 indicates a lower chance.\")\n",
    "    st.write(\"This prediction is based on the Logistic Regression model trained on the Titanic dataset.\")\n"
   ]
  },
  {
   "cell_type": "code",
   "execution_count": 10,
   "id": "21d04000-7e7c-4a53-9782-cf2d7994a96c",
   "metadata": {},
   "outputs": [
    {
     "data": {
      "text/plain": [
       "DeltaGenerator()"
      ]
     },
     "execution_count": 10,
     "metadata": {},
     "output_type": "execute_result"
    }
   ],
   "source": [
    "st.markdown(\"---\")\n",
    "st.markdown(\"Developed by Gemini for your Logistic Regression Assignment.\")\n"
   ]
  },
  {
   "cell_type": "code",
   "execution_count": null,
   "id": "fb72f229-6aee-41ad-ae48-9cbe99a3f584",
   "metadata": {},
   "outputs": [],
   "source": []
  }
 ],
 "metadata": {
  "kernelspec": {
   "display_name": "Python [conda env:base] *",
   "language": "python",
   "name": "conda-base-py"
  },
  "language_info": {
   "codemirror_mode": {
    "name": "ipython",
    "version": 3
   },
   "file_extension": ".py",
   "mimetype": "text/x-python",
   "name": "python",
   "nbconvert_exporter": "python",
   "pygments_lexer": "ipython3",
   "version": "3.12.7"
  }
 },
 "nbformat": 4,
 "nbformat_minor": 5
}
